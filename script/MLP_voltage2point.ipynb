{
 "cells": [
  {
   "cell_type": "code",
   "execution_count": 1,
   "metadata": {},
   "outputs": [],
   "source": [
    "import scipy.io\n",
    "import matplotlib.pyplot as plt\n",
    "import numpy as np\n",
    "import scipy.linalg\n",
    "import torch\n",
    "from torch.utils.data import Dataset"
   ]
  },
  {
   "cell_type": "code",
   "execution_count": 79,
   "metadata": {},
   "outputs": [],
   "source": [
    "# parameters\n",
    "coords_voltages = '../coords_voltages/coords_voltages_C0016.mat'\n",
    "square_size = 1.6\n",
    "\n",
    "data = scipy.io.loadmat(coords_voltages)\n",
    "points = np.flip(data['coords'][0:625, 0:2], axis=1)\n",
    "voltage = data['voltages']\n",
    "points = -points * 0.01 * square_size"
   ]
  },
  {
   "cell_type": "code",
   "execution_count": 80,
   "metadata": {},
   "outputs": [],
   "source": [
    "class MyData(Dataset):\n",
    "    def __init__(self, coordiantes, voltage):\n",
    "        self.coordinates = coordiantes\n",
    "        self.voltage = voltage\n",
    "\n",
    "    def __getitem__(self, idx): \n",
    "\n",
    "        return self.coordinates[idx], self.voltage[idx]\n",
    "\n",
    "    def __len__(self):\n",
    "        return self.voltage.shape[0]"
   ]
  },
  {
   "cell_type": "code",
   "execution_count": 81,
   "metadata": {},
   "outputs": [],
   "source": [
    "class Model(torch.nn.Module):\n",
    "    \n",
    " \n",
    "    def __init__(self,num_i,num_h,num_o):\n",
    "        super(Model,self).__init__()\n",
    "        \n",
    "        self.linear1=torch.nn.Linear(num_i,num_h)\n",
    "        self.tanh1=torch.nn.Tanh()\n",
    "        self.linear2=torch.nn.Linear(num_h,num_h)\n",
    "        self.tanh2=torch.nn.Tanh()\n",
    "        self.linear3=torch.nn.Linear(num_h,num_h)\n",
    "        self.tanh3=torch.nn.Tanh()\n",
    "        self.linear4=torch.nn.Linear(num_h,num_h)\n",
    "        self.tanh4=torch.nn.Tanh()\n",
    "        self.linear5=torch.nn.Linear(num_h,num_h)\n",
    "        self.tanh5=torch.nn.Tanh()\n",
    "        self.linear6=torch.nn.Linear(num_h,num_o)\n",
    "  \n",
    "    def forward(self, x):\n",
    "        x = self.linear1(x)\n",
    "        x = self.tanh1(x)\n",
    "        x = self.linear2(x)\n",
    "        x = self.tanh2(x)\n",
    "        x = self.linear3(x)\n",
    "        x = self.tanh3(x)\n",
    "        x = self.linear4(x)\n",
    "        x = self.tanh4(x)\n",
    "        x = self.linear5(x)\n",
    "        x = self.tanh5(x)\n",
    "        x = self.linear6(x)\n",
    "\n",
    "        return x"
   ]
  },
  {
   "cell_type": "code",
   "execution_count": 82,
   "metadata": {},
   "outputs": [],
   "source": [
    "data_train = MyData(voltage, points)\n",
    "\n",
    "data_loader_train = torch.utils.data.DataLoader(dataset = data_train,\n",
    "                                                batch_size = 32,\n",
    "                                                shuffle = True)"
   ]
  },
  {
   "cell_type": "code",
   "execution_count": 83,
   "metadata": {},
   "outputs": [
    {
     "name": "stderr",
     "output_type": "stream",
     "text": [
      "/var/folders/dp/_xrz74d50vgb_z54bv1pbcrm0000gn/T/ipykernel_34243/3402197429.py:12: UserWarning: To copy construct from a tensor, it is recommended to use sourceTensor.clone().detach() or sourceTensor.clone().detach().requires_grad_(True), rather than torch.tensor(sourceTensor).\n",
      "  inputs_new = torch.tensor(inputs, dtype=torch.float32)\n",
      "/var/folders/dp/_xrz74d50vgb_z54bv1pbcrm0000gn/T/ipykernel_34243/3402197429.py:13: UserWarning: To copy construct from a tensor, it is recommended to use sourceTensor.clone().detach() or sourceTensor.clone().detach().requires_grad_(True), rather than torch.tensor(sourceTensor).\n",
      "  labels_new = torch.tensor(labels, dtype=torch.float32)\n"
     ]
    },
    {
     "name": "stdout",
     "output_type": "stream",
     "text": [
      "epoch: 0, loss: 2.1245200112462044\n",
      "epoch: 1000, loss: 4.278916213706907e-05\n",
      "epoch: 2000, loss: 2.6097577233485936e-05\n",
      "epoch: 3000, loss: 1.9426315503778824e-05\n",
      "epoch: 4000, loss: 1.4078613858714562e-05\n"
     ]
    },
    {
     "data": {
      "text/plain": [
       "Model(\n",
       "  (linear1): Linear(in_features=2, out_features=7, bias=True)\n",
       "  (tanh1): Tanh()\n",
       "  (linear2): Linear(in_features=7, out_features=7, bias=True)\n",
       "  (tanh2): Tanh()\n",
       "  (linear3): Linear(in_features=7, out_features=7, bias=True)\n",
       "  (tanh3): Tanh()\n",
       "  (linear4): Linear(in_features=7, out_features=7, bias=True)\n",
       "  (tanh4): Tanh()\n",
       "  (linear5): Linear(in_features=7, out_features=7, bias=True)\n",
       "  (tanh5): Tanh()\n",
       "  (linear6): Linear(in_features=7, out_features=2, bias=True)\n",
       ")"
      ]
     },
     "execution_count": 83,
     "metadata": {},
     "output_type": "execute_result"
    }
   ],
   "source": [
    "model = Model(2,7,2)\n",
    "loss_function = torch.nn.MSELoss()\n",
    "optimizer = torch.optim.Adam(model.parameters())\n",
    "epochs = 5000\n",
    "\n",
    "for epoch in range(epochs) :\n",
    "    sum_loss=0\n",
    "    train_correct=0\n",
    "\n",
    "    for data in data_loader_train:\n",
    "        inputs, labels = data # inputs: [100,2]\n",
    "        inputs_new = torch.tensor(inputs, dtype=torch.float32)\n",
    "        labels_new = torch.tensor(labels, dtype=torch.float32)\n",
    "        outputs=model(inputs_new) # outputs: [100,2]\n",
    "\n",
    "        optimizer.zero_grad()\n",
    "        loss = loss_function(outputs,labels_new)\n",
    "        loss.backward()\n",
    "        optimizer.step()\n",
    "        sum_loss += loss.item()\n",
    "    if epoch % 1000 == 0:\n",
    "        print('epoch: {}, loss: {}'.format(epoch, sum_loss))\n",
    "\n",
    "model.train()"
   ]
  },
  {
   "cell_type": "code",
   "execution_count": 84,
   "metadata": {},
   "outputs": [],
   "source": [
    "vertices_data = scipy.io.loadmat('../transforms/vertices.mat')\n",
    "vertices_voltage = vertices_data['vertices']"
   ]
  },
  {
   "cell_type": "code",
   "execution_count": 85,
   "metadata": {},
   "outputs": [
    {
     "data": {
      "text/plain": [
       "<function matplotlib.pyplot.show(close=None, block=None)>"
      ]
     },
     "execution_count": 85,
     "metadata": {},
     "output_type": "execute_result"
    },
    {
     "data": {
      "image/png": "[encoded data removed]",
      "text/plain": [
       "<Figure size 640x480 with 1 Axes>"
      ]
     },
     "metadata": {},
     "output_type": "display_data"
    }
   ],
   "source": [
    "points_inferred = model(torch.tensor(voltage, dtype = torch.float32))\n",
    "points_inferred = points_inferred.detach().numpy()\n",
    "points_inferred_test = model(torch.tensor(vertices_voltage.T, dtype = torch.float32)).detach().numpy()\n",
    "plt.figure\n",
    "for i in range(points.shape[0]):\n",
    "    plt.scatter(points[i,0], points[i,1], c='r', s=10)\n",
    "    plt.scatter(points_inferred[i,0], points_inferred[i,1], c='b', s=10)\n",
    "\n",
    "for i in range(points_inferred_test.shape[0]):\n",
    "    plt.scatter(points_inferred_test[i,0], points_inferred_test[i,1], c='r', s=10)\n",
    "\n",
    "\n",
    "plt.show"
   ]
  },
  {
   "cell_type": "code",
   "execution_count": 86,
   "metadata": {},
   "outputs": [
    {
     "data": {
      "text/plain": [
       "array([[-0.08472587,  0.0237499 ],\n",
       "       [-0.08215396, -0.06787037],\n",
       "       [ 0.03189364, -0.07475629],\n",
       "       [ 0.03845021,  0.01968364]], dtype=float32)"
      ]
     },
     "execution_count": 86,
     "metadata": {},
     "output_type": "execute_result"
    }
   ],
   "source": [
    "points_inferred_test"
   ]
  },
  {
   "cell_type": "code",
   "execution_count": 89,
   "metadata": {},
   "outputs": [
    {
     "data": {
      "text/plain": [
       "array([[1.5871, 1.1872],\n",
       "       [1.6649, 0.1555],\n",
       "       [2.4852, 0.1648],\n",
       "       [2.4752, 1.1742]])"
      ]
     },
     "execution_count": 89,
     "metadata": {},
     "output_type": "execute_result"
    }
   ],
   "source": [
    "vertices_voltage.T"
   ]
  },
  {
   "cell_type": "code",
   "execution_count": null,
   "metadata": {},
   "outputs": [],
   "source": []
  }
 ],
 "metadata": {
  "kernelspec": {
   "display_name": "calibration",
   "language": "python",
   "name": "python3"
  },
  "language_info": {
   "codemirror_mode": {
    "name": "ipython",
    "version": 3
   },
   "file_extension": ".py",
   "mimetype": "text/x-python",
   "name": "python",
   "nbconvert_exporter": "python",
   "pygments_lexer": "ipython3",
   "version": "3.8.17"
  },
  "orig_nbformat": 4
 },
 "nbformat": 4,
 "nbformat_minor": 2
}
