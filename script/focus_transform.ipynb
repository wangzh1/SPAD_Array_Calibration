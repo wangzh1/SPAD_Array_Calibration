{
 "cells": [
  {
   "cell_type": "code",
   "execution_count": 2,
   "metadata": {},
   "outputs": [],
   "source": [
    "import numpy as np\n",
    "import cvxpy as cp\n",
    "import matplotlib.pyplot as plt\n",
    "from scipy.optimize import minimize\n",
    "import scipy"
   ]
  },
  {
   "cell_type": "code",
   "execution_count": 5,
   "metadata": {},
   "outputs": [],
   "source": [
    "# data = scipy.io.loadmat('relative_position.mat')\n",
    "vertices_coords = scipy.io.loadmat('../transforms/vertices.mat')"
   ]
  },
  {
   "cell_type": "code",
   "execution_count": 7,
   "metadata": {},
   "outputs": [],
   "source": [
    "f = 20e-3\n",
    "spad_size = 1.6e-3\n",
    "# spad_board = spad_board.T.reshape(3, 15, 15)\n",
    "# spad_direction = spad_direction.reshape(3, 1)\n",
    "# spad_direction = spad_direction / np.sqrt(np.sum(spad_direction ** 2)) * f"
   ]
  },
  {
   "cell_type": "code",
   "execution_count": 28,
   "metadata": {},
   "outputs": [],
   "source": [
    "points = vertices_coords['points'].T\n",
    "points[2, :] = 0"
   ]
  },
  {
   "cell_type": "code",
   "execution_count": 31,
   "metadata": {},
   "outputs": [],
   "source": [
    "def test(spad_info):\n",
    "    spad_info\n",
    "    direction_left_top = spad_direction - horizonal + vertical\n",
    "    direction_left_bottom = spad_direction - horizonal - vertical\n",
    "    direction_right_top = spad_direction + horizonal + vertical\n",
    "    direction_right_bottom = spad_direction + horizonal - vertical\n",
    "    z_distance = spad_location[2]\n",
    "    focal_points = np.zeros([3, 4])\n",
    "\n",
    "    # l r r l\n",
    "    # b b t t\n",
    "    focal_points[:, 0] = spad_location + (direction_left_bottom / np.abs(direction_left_bottom[2]) * z_distance)\n",
    "    focal_points[:, 1] = spad_location + (direction_right_bottom / np.abs(direction_right_bottom[2]) * z_distance)\n",
    "    focal_points[:, 2] = spad_location + (direction_right_top / np.abs(direction_right_top[2]) * z_distance)\n",
    "    focal_points[:, 3] = spad_location + (direction_left_top / np.abs(direction_left_top[2]) * z_distance)\n",
    "    # return np.sum(np.square(points - focal_points))/4\n",
    "    return focal_points"
   ]
  },
  {
   "cell_type": "code",
   "execution_count": 38,
   "metadata": {},
   "outputs": [],
   "source": [
    "def find_focals(spad_location):\n",
    "    spad_direction = \n",
    "    direction_left_top = spad_direction - horizonal + vertical\n",
    "    direction_left_bottom = spad_direction - horizonal - vertical\n",
    "    direction_right_top = spad_direction + horizonal + vertical\n",
    "    direction_right_bottom = spad_direction + horizonal - vertical\n",
    "    z_distance = spad_location[2]\n",
    "    focal_points = np.zeros([3, 4])\n",
    "    focal_points[:, 0] = spad_location + (direction_left_bottom / np.abs(direction_left_bottom[2]) * z_distance)\n",
    "    focal_points[:, 1] = spad_location + (direction_right_bottom / np.abs(direction_right_bottom[2]) * z_distance)\n",
    "    focal_points[:, 2] = spad_location + (direction_right_top / np.abs(direction_right_top[2]) * z_distance)\n",
    "    focal_points[:, 3] = spad_location + (direction_left_top / np.abs(direction_left_top[2]) * z_distance)\n",
    "    return np.linalg.norm(points - focal_points)\n",
    "    # return focal_points"
   ]
  },
  {
   "cell_type": "code",
   "execution_count": 60,
   "metadata": {},
   "outputs": [],
   "source": [
    "initial_guess = spad_location.copy()\n",
    "res = minimize(find_focals, initial_guess, method='nelder-mead')"
   ]
  },
  {
   "cell_type": "code",
   "execution_count": 61,
   "metadata": {},
   "outputs": [
    {
     "data": {
      "text/plain": [
       "array([[0.14924459, 0.26200045, 0.25902774, 0.14672739],\n",
       "       [0.10541368, 0.10406189, 0.20041354, 0.19680028],\n",
       "       [0.        , 0.        , 0.        , 0.        ]])"
      ]
     },
     "execution_count": 61,
     "metadata": {},
     "output_type": "execute_result"
    }
   ],
   "source": [
    "test(res.x)"
   ]
  },
  {
   "cell_type": "code",
   "execution_count": 62,
   "metadata": {},
   "outputs": [
    {
     "data": {
      "text/plain": [
       "array([-0.44434395,  0.1732491 ,  0.97733474])"
      ]
     },
     "execution_count": 62,
     "metadata": {},
     "output_type": "execute_result"
    }
   ],
   "source": [
    "res.x"
   ]
  },
  {
   "cell_type": "code",
   "execution_count": 63,
   "metadata": {},
   "outputs": [
    {
     "data": {
      "text/plain": [
       "array([[-0.75598135,  0.06993698,  0.84848552]])"
      ]
     },
     "execution_count": 63,
     "metadata": {},
     "output_type": "execute_result"
    }
   ],
   "source": [
    "galvo_location"
   ]
  },
  {
   "cell_type": "code",
   "execution_count": 64,
   "metadata": {},
   "outputs": [
    {
     "data": {
      "text/plain": [
       "0.35269445667222715"
      ]
     },
     "execution_count": 64,
     "metadata": {},
     "output_type": "execute_result"
    }
   ],
   "source": [
    "np.linalg.norm(galvo_location - res.x)"
   ]
  },
  {
   "cell_type": "code",
   "execution_count": null,
   "metadata": {},
   "outputs": [],
   "source": []
  }
 ],
 "metadata": {
  "kernelspec": {
   "display_name": "cali",
   "language": "python",
   "name": "python3"
  },
  "language_info": {
   "codemirror_mode": {
    "name": "ipython",
    "version": 3
   },
   "file_extension": ".py",
   "mimetype": "text/x-python",
   "name": "python",
   "nbconvert_exporter": "python",
   "pygments_lexer": "ipython3",
   "version": "3.8.17"
  },
  "orig_nbformat": 4
 },
 "nbformat": 4,
 "nbformat_minor": 2
}
